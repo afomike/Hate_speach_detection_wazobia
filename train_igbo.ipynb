{
 "cells": [
  {
   "cell_type": "code",
   "execution_count": 4,
   "id": "41b2686f-68d1-4018-b465-8fe95a438887",
   "metadata": {},
   "outputs": [],
   "source": [
    "%%capture\n",
    "import numpy as np\n",
    "import pandas as pd\n",
    "import matplotlib.pyplot as plt\n",
    "import seaborn as sb\n",
    "from sklearn.feature_extraction.text import TfidfVectorizer\n",
    "from sklearn.model_selection import train_test_split\n",
    "from sklearn.metrics import accuracy_score\n",
    "from sklearn.linear_model import LogisticRegression\n",
    "from sklearn.tree import DecisionTreeClassifier\n",
    "from sklearn.ensemble import RandomForestClassifier\n",
    "from sklearn.svm import SVC\n",
    "from sklearn.neighbors import KNeighborsClassifier\n",
    "from sklearn.naive_bayes import MultinomialNB\n",
    "import pickle\n",
    "\n",
    "# Text Pre-processing libraries\n",
    "import nltk\n",
    "import string\n",
    "import warnings\n",
    "from nltk.corpus import stopwords\n",
    "from nltk.stem import WordNetLemmatizer\n",
    "from wordcloud import WordCloud\n",
    " "
   ]
  },
  {
   "cell_type": "code",
   "execution_count": 5,
   "id": "42d85ec7-6612-489d-ba5f-9d26c58ffd82",
   "metadata": {},
   "outputs": [],
   "source": [
    "# Load the dataset\n",
    "df = pd.read_csv('dataset/igbo_hate.csv')\n"
   ]
  },
  {
   "cell_type": "code",
   "execution_count": 6,
   "id": "b2c313c3-4a45-459f-aeac-cbe9d50e7176",
   "metadata": {},
   "outputs": [
    {
     "data": {
      "text/html": [
       "<div>\n",
       "<style scoped>\n",
       "    .dataframe tbody tr th:only-of-type {\n",
       "        vertical-align: middle;\n",
       "    }\n",
       "\n",
       "    .dataframe tbody tr th {\n",
       "        vertical-align: top;\n",
       "    }\n",
       "\n",
       "    .dataframe thead th {\n",
       "        text-align: right;\n",
       "    }\n",
       "</style>\n",
       "<table border=\"1\" class=\"dataframe\">\n",
       "  <thead>\n",
       "    <tr style=\"text-align: right;\">\n",
       "      <th></th>\n",
       "      <th>Hate words</th>\n",
       "      <th>Why Hate?</th>\n",
       "      <th>Offensive words</th>\n",
       "      <th>Why offensive?</th>\n",
       "    </tr>\n",
       "  </thead>\n",
       "  <tbody>\n",
       "    <tr>\n",
       "      <th>0</th>\n",
       "      <td>okpo ntu</td>\n",
       "      <td>Insulting</td>\n",
       "      <td>ile ngaji</td>\n",
       "      <td>Insulting</td>\n",
       "    </tr>\n",
       "    <tr>\n",
       "      <th>1</th>\n",
       "      <td>nwaanyi</td>\n",
       "      <td>Insulting</td>\n",
       "      <td>onye ori</td>\n",
       "      <td>Insulting</td>\n",
       "    </tr>\n",
       "    <tr>\n",
       "      <th>2</th>\n",
       "      <td>ewu</td>\n",
       "      <td>Insulting</td>\n",
       "      <td>onye mgbu</td>\n",
       "      <td>Insulting</td>\n",
       "    </tr>\n",
       "    <tr>\n",
       "      <th>3</th>\n",
       "      <td>ofe mmanụ</td>\n",
       "      <td>Discriminatory/neutral</td>\n",
       "      <td>ike</td>\n",
       "      <td>Insulting</td>\n",
       "    </tr>\n",
       "    <tr>\n",
       "      <th>4</th>\n",
       "      <td>ndi ugwu</td>\n",
       "      <td>Discriminatory/neutral</td>\n",
       "      <td>ụtụrụ gbagbuo gi</td>\n",
       "      <td>Insulting</td>\n",
       "    </tr>\n",
       "  </tbody>\n",
       "</table>\n",
       "</div>"
      ],
      "text/plain": [
       "  Hate words               Why Hate?   Offensive words Why offensive?\n",
       "0   okpo ntu               Insulting         ile ngaji      Insulting\n",
       "1    nwaanyi               Insulting          onye ori      Insulting\n",
       "2        ewu               Insulting         onye mgbu      Insulting\n",
       "3  ofe mmanụ  Discriminatory/neutral               ike      Insulting\n",
       "4   ndi ugwu  Discriminatory/neutral  ụtụrụ gbagbuo gi      Insulting"
      ]
     },
     "execution_count": 6,
     "metadata": {},
     "output_type": "execute_result"
    }
   ],
   "source": [
    "df.head()"
   ]
  },
  {
   "cell_type": "code",
   "execution_count": 7,
   "id": "625029e0-0b2a-4d72-98d2-4a1685f09c0b",
   "metadata": {},
   "outputs": [
    {
     "data": {
      "text/plain": [
       "Index(['Hate words', 'Why Hate?', 'Offensive words', 'Why offensive?'], dtype='object')"
      ]
     },
     "execution_count": 7,
     "metadata": {},
     "output_type": "execute_result"
    }
   ],
   "source": [
    "df.columns"
   ]
  },
  {
   "cell_type": "code",
   "execution_count": 8,
   "id": "9cb9d74d-f156-45f2-b968-8351abd9dacb",
   "metadata": {},
   "outputs": [],
   "source": [
    "def fill_na_with_mode(df, columns):\n",
    "   \n",
    "    for column in columns:\n",
    "        if column in df.columns:\n",
    "            mode_value = df[column].mode()[0]  # Get the mode of the column\n",
    "            df[column].fillna(mode_value, inplace=True)  # Fill NaN values with the mode\n",
    "    return df"
   ]
  },
  {
   "cell_type": "code",
   "execution_count": 9,
   "id": "40241094-8b4b-4673-8f75-27376a0c6a73",
   "metadata": {},
   "outputs": [
    {
     "name": "stdout",
     "output_type": "stream",
     "text": [
      "\n",
      "DataFrame after filling NaN values with the mode:\n",
      "       Hate words               Why Hate?   Offensive words  \\\n",
      "0        okpo ntu               Insulting         ile ngaji   \n",
      "1         nwaanyi               Insulting          onye ori   \n",
      "2             ewu               Insulting         onye mgbu   \n",
      "3       ofe mmanụ  Discriminatory/neutral               ike   \n",
      "4        ndi ugwu  Discriminatory/neutral  ụtụrụ gbagbuo gi   \n",
      "..            ...                     ...               ...   \n",
      "113  Dimkpa Benin  Discriminatory/neutral             agadi   \n",
      "114  Dimkpa Benin  Discriminatory/neutral          onye nka   \n",
      "115  Dimkpa Benin  Discriminatory/neutral    ozu nwụrụ anwụ   \n",
      "116  Dimkpa Benin  Discriminatory/neutral         mmiri ozu   \n",
      "117  Dimkpa Benin  Discriminatory/neutral       ụkwụ ọbọgwụ   \n",
      "\n",
      "           Why offensive?  \n",
      "0               Insulting  \n",
      "1               Insulting  \n",
      "2               Insulting  \n",
      "3               Insulting  \n",
      "4               Insulting  \n",
      "..                    ...  \n",
      "113             Insulting  \n",
      "114             Insulting  \n",
      "115             Insulting  \n",
      "116             Insulting  \n",
      "117  Comparison to animal  \n",
      "\n",
      "[118 rows x 4 columns]\n"
     ]
    }
   ],
   "source": [
    "# Apply the function to fill NaN values with the mode for specified columns\n",
    "columns_to_fill = ['Hate words', 'Why Hate?', 'Offensive words', 'Why offensive?']\n",
    "df = fill_na_with_mode(df, columns_to_fill)\n",
    "\n",
    "print(\"\\nDataFrame after filling NaN values with the mode:\")\n",
    "print(df)"
   ]
  },
  {
   "cell_type": "code",
   "execution_count": 10,
   "id": "c7aa33d0-196e-42fe-8dbe-41e6ceff6da0",
   "metadata": {},
   "outputs": [],
   "source": [
    "# Combine 'Hate word' and 'Why Hate?' columns into one text column for hate speech\n",
    "df['hate_text'] = df['Hate words']\n",
    "df['offensive_text'] = df['Offensive words']\n",
    "\n",
    "# Label the data: 1 for hate speech/offensive speech, 0 for non-hate/non-offensive speech\n",
    "df['hate_label'] = 1\n",
    "df['offensive_label'] = 1"
   ]
  },
  {
   "cell_type": "code",
   "execution_count": 11,
   "id": "d483514e-249d-446d-9b40-9a54e438159c",
   "metadata": {},
   "outputs": [
    {
     "data": {
      "text/plain": [
       "Index(['Hate words', 'Why Hate?', 'Offensive words', 'Why offensive?',\n",
       "       'hate_text', 'offensive_text', 'hate_label', 'offensive_label'],\n",
       "      dtype='object')"
      ]
     },
     "execution_count": 11,
     "metadata": {},
     "output_type": "execute_result"
    }
   ],
   "source": [
    "df.columns"
   ]
  },
  {
   "cell_type": "code",
   "execution_count": 12,
   "id": "d700b6dc-d7c6-48fe-8e70-c0f85b9948b7",
   "metadata": {},
   "outputs": [
    {
     "name": "stdout",
     "output_type": "stream",
     "text": [
      "\n",
      "Most frequently occurring word (mode): Dimkpa Benin\n"
     ]
    }
   ],
   "source": [
    "# Find the mode of the 'Hate words' column\n",
    "hate_text_mode = df['hate_text'].mode()[0]\n",
    "print(\"\\nMost frequently occurring word (mode):\", hate_text_mode)\n",
    "\n",
    "# Fill NaN values with the mode\n",
    "df['hate_text'].fillna(hate_text_mode, inplace=True)"
   ]
  },
  {
   "cell_type": "code",
   "execution_count": 13,
   "id": "7200b977-a3fd-47b9-87a4-ac1f21077f26",
   "metadata": {},
   "outputs": [],
   "source": [
    "# Lower case all the words of the hate_text before any preprocessing\n",
    "df['hate_text'] = df['hate_text'].str.lower()\n",
    "\n",
    "# Removing punctuations present in the text\n",
    "# punctuations_list = string.punctuation\n",
    "# def remove_punctuations(text):\n",
    "# \ttemp = str.maketrans('', '', punctuations_list)\n",
    "# \treturn text.translate(temp)\n",
    "\n",
    "# df['hate_text']= df['hate_text'].apply(lambda x: remove_punctuations(x))\n",
    "# df.head()"
   ]
  },
  {
   "cell_type": "code",
   "execution_count": 14,
   "id": "a355e3d8-6ee0-43d7-93d6-43f0f97ee7cf",
   "metadata": {},
   "outputs": [],
   "source": [
    "# Lower case all the words of the offensive_text before any preprocessing\n",
    "df['offensive_text'] = df['offensive_text'].str.lower()\n",
    "\n",
    "# Removing punctuations present in the text\n",
    "punctuations_list = string.punctuation\n",
    "# def remove_punctuations(text):\n",
    "# \ttemp = str.maketrans('', '', punctuations_list)\n",
    "# \treturn text.translate(temp)\n",
    "\n",
    "# df['offensive_text']= df['offensive_text'].apply(lambda x: remove_punctuations(x))\n",
    "# df.head()\n"
   ]
  },
  {
   "cell_type": "code",
   "execution_count": 15,
   "id": "b5ced37d-ccd3-4f76-97b7-8ab6cc2ac909",
   "metadata": {},
   "outputs": [],
   "source": [
    "# def remove_stopwords(text):\n",
    "# \tstop_words = stopwords.words('english')\n",
    "\n",
    "# \timp_words = []\n",
    "\n",
    "# \t# Storing the important words\n",
    "# \tfor word in str(text).split():\n",
    "\n",
    "# \t\tif word not in stop_words:\n",
    "\n",
    "# \t\t\t# Let's Lemmatize the word as well\n",
    "# \t\t\t# before appending to the imp_words list.\n",
    "\n",
    "# \t\t\tlemmatizer = WordNetLemmatizer()\n",
    "# \t\t\tlemmatizer.lemmatize(word)\n",
    "\n",
    "# \t\t\timp_words.append(word)\n",
    "\n",
    "# \toutput = \" \".join(imp_words)\n",
    "\n",
    "# \treturn output\n",
    "\n",
    "\n",
    "# df['Hate words'] = df['Hate words'].apply(lambda text: remove_stopwords(text))\n",
    "# df.head()"
   ]
  },
  {
   "cell_type": "code",
   "execution_count": 16,
   "id": "455f3d39-2999-40de-b842-792f176e7246",
   "metadata": {},
   "outputs": [],
   "source": [
    "# def remove_stopwords(text):\n",
    "# \tstop_words = stopwords.words('english')\n",
    "\n",
    "# \timp_words = []\n",
    "\n",
    "# \t# Storing the important words\n",
    "# \tfor word in str(text).split():\n",
    "\n",
    "# \t\tif word not in stop_words:\n",
    "\n",
    "# \t\t\t# Let's Lemmatize the word as well\n",
    "# \t\t\t# before appending to the imp_words list.\n",
    "\n",
    "# \t\t\tlemmatizer = WordNetLemmatizer()\n",
    "# \t\t\tlemmatizer.lemmatize(word)\n",
    "\n",
    "# \t\t\timp_words.append(word)\n",
    "\n",
    "# \toutput = \" \".join(imp_words)\n",
    "\n",
    "# \treturn output\n",
    "\n",
    "\n",
    "# df['tweet'] = df['tweet'].apply(lambda text: remove_stopwords(text))\n",
    "# df.head()\n"
   ]
  },
  {
   "cell_type": "code",
   "execution_count": 17,
   "id": "cdf36edf-acf8-4c65-abca-2b22a9913626",
   "metadata": {},
   "outputs": [
    {
     "data": {
      "text/plain": [
       "Index(['Hate words', 'Why Hate?', 'Offensive words', 'Why offensive?',\n",
       "       'hate_text', 'offensive_text', 'hate_label', 'offensive_label'],\n",
       "      dtype='object')"
      ]
     },
     "execution_count": 17,
     "metadata": {},
     "output_type": "execute_result"
    }
   ],
   "source": [
    "df.columns"
   ]
  },
  {
   "cell_type": "code",
   "execution_count": 18,
   "id": "259920b2-8f95-4492-9b52-16a331f0cc84",
   "metadata": {},
   "outputs": [
    {
     "data": {
      "image/png": "[encoded data removed]",
      "text/plain": [
       "<Figure size 1000x1000 with 1 Axes>"
      ]
     },
     "metadata": {},
     "output_type": "display_data"
    },
    {
     "name": "stdout",
     "output_type": "stream",
     "text": [
      "\n"
     ]
    }
   ],
   "source": [
    "def plot_word_cloud(data, typ):\n",
    "    # Joining all the tweets to get the corpus\n",
    "    email_corpus = \" \".join(data['Hate words'])\n",
    "    \n",
    "    plt.figure(figsize = (10,10))\n",
    "    \n",
    "    # Forming the word cloud\n",
    "    wc = WordCloud(max_words = 100,\n",
    "    \t\t\t\twidth = 200,\n",
    "    \t\t\t\theight = 100,\n",
    "    \t\t\t\tcollocations = False).generate(email_corpus)\n",
    "    \n",
    "    # Plotting the wordcloud obtained above\n",
    "    plt.title(f'WordCloud for {typ} emails.', fontsize = 15)\n",
    "    plt.axis('off')\n",
    "    plt.imshow(wc)\n",
    "    plt.show()\n",
    "    print()\n",
    "\n",
    "plot_word_cloud(df[df['hate_label']==1], typ='Neither')\n"
   ]
  },
  {
   "cell_type": "code",
   "execution_count": 19,
   "id": "7689b735-7b9a-409e-a09d-797c95c0b24d",
   "metadata": {},
   "outputs": [
    {
     "data": {
      "image/png": "[encoded data removed]",
      "text/plain": [
       "<Figure size 640x480 with 1 Axes>"
      ]
     },
     "metadata": {},
     "output_type": "display_data"
    }
   ],
   "source": [
    "plt.pie(df['Why Hate?'].value_counts().values,\n",
    "\t\tlabels = df['Why Hate?'].value_counts().index,\n",
    "\t\tautopct='%1.1f%%')\n",
    "plt.show()\n"
   ]
  },
  {
   "cell_type": "code",
   "execution_count": 20,
   "id": "672a103d-70bd-4e39-9753-86b6686f1c33",
   "metadata": {},
   "outputs": [],
   "source": [
    "# Create a list of non-hate speech examples in Igbo\n",
    "non_hate_speech = [\n",
    "    \"Nke a bụ okwu nkịtị.\",\n",
    "    \"Enweghi okwu mwute ebe a.\",\n",
    "    \"Ọ bụ mkparịta ụka nkịtị.\",\n",
    "    \"Kedu ka ịmere?\",\n",
    "    \"Adị m mma.\",\n",
    "    \"Daalụ n'ala.\",\n",
    "    \"Enwere m olileanya na ị dị mma.\",\n",
    "    \"Chukwu gozie gị.\",\n",
    "    \"Aga m abịa ụlọ gị echi.\",\n",
    "    \"A na m akwado ịgụ akwụkwọ a.\",\n",
    "    \"Anyị kwesịrị ịrụ ọrụ ọnụ.\",\n",
    "    \"Abalị a dị ezigbo mma.\",\n",
    "    \"A ga m arịrịọ maka gị.\",\n",
    "    \"Anyị chọrọ udo.\",\n",
    "    \"Kedu ka ezinụlọ gị dị?\",\n",
    "    \"Ahụrụ m ihe a dị mma.\",\n",
    "    \"Bịa ka anyị nwee ọṅụ.\",\n",
    "    \"Achọrọ m ịnụ echiche gị.\",\n",
    "    \"Anyị na-eche echiche ọma.\",\n",
    "    \"Chineke nyeere anyị aka.\"\n",
    "]\n",
    "\n",
    "# Create a DataFrame for non-hate and non-offensive speech examples in Igbo\n",
    "non_hate_df = pd.DataFrame({'hate_text': non_hate_speech, 'hate_label': 0, 'offensive_text': non_hate_speech, 'offensive_label': 0})\n",
    "\n",
    "# Combine the datasets\n",
    "combined_df = pd.concat([df[['hate_text', 'hate_label', 'offensive_text', 'offensive_label']], non_hate_df])\n",
    "\n",
    "# Proceed with the rest of your machine learning pipeline\n"
   ]
  },
  {
   "cell_type": "code",
   "execution_count": 21,
   "id": "79147e9c-9bd5-4840-99ec-e78f04e66e99",
   "metadata": {},
   "outputs": [],
   "source": [
    "# Create a DataFrame for non-hate and non-offensive speech examples\n",
    "non_hate_df = pd.DataFrame({'hate_text': non_hate_speech, 'hate_label': 0, 'offensive_text': non_hate_speech, 'offensive_label': 0})\n",
    "\n",
    "# Combine the datasets\n",
    "combined_df = pd.concat([df[['hate_text', 'hate_label', 'offensive_text', 'offensive_label']], non_hate_df])\n"
   ]
  },
  {
   "cell_type": "code",
   "execution_count": 22,
   "id": "3709b2f5-9897-4ef7-8887-e261c94ec5a4",
   "metadata": {},
   "outputs": [],
   "source": [
    "import os"
   ]
  },
  {
   "cell_type": "code",
   "execution_count": 23,
   "id": "c58ee6c3-8f6a-43aa-9b0f-b4bba209a929",
   "metadata": {},
   "outputs": [],
   "source": [
    "# Ensure the 'models' directory exists\n",
    "os.makedirs('models', exist_ok=True)\n",
    "\n",
    "# Split into features and labels for hate speech\n",
    "X_hate = combined_df['hate_text']\n",
    "y_hate = combined_df['hate_label']\n",
    "\n",
    "# Split into features and labels for offensive speech\n",
    "X_offensive = combined_df['offensive_text']\n",
    "y_offensive = combined_df['offensive_label']\n",
    "\n",
    "# Split the data into training and testing sets\n",
    "X_hate_train, X_hate_test, y_hate_train, y_hate_test = train_test_split(X_hate, y_hate, test_size=0.3, random_state=42)\n",
    "X_offensive_train, X_offensive_test, y_offensive_train, y_offensive_test = train_test_split(X_offensive, y_offensive, test_size=0.3, random_state=42)\n",
    "\n",
    "# Initialize TfidfVectorizer\n",
    "tfidf_vectorizer = TfidfVectorizer()\n",
    "\n",
    "# Transform the text data\n",
    "X_hate_train_tfidf = tfidf_vectorizer.fit_transform(X_hate_train)\n",
    "X_hate_test_tfidf = tfidf_vectorizer.transform(X_hate_test)\n",
    "X_offensive_train_tfidf = tfidf_vectorizer.fit_transform(X_offensive_train)\n",
    "X_offensive_test_tfidf = tfidf_vectorizer.transform(X_offensive_test)\n",
    "\n",
    "# Define the models to be tested\n",
    "models = {\n",
    "    'igbo_LogisticRegression': LogisticRegression(),\n",
    "    'igbo_DecisionTree': DecisionTreeClassifier(),\n",
    "    'igbo_RandomForest': RandomForestClassifier(),\n",
    "    'igbo_SVM': SVC(),\n",
    "    'igbo_KNN': KNeighborsClassifier(),\n",
    "    'igbo_NaiveBayes': MultinomialNB()\n",
    "}\n",
    "\n"
   ]
  },
  {
   "cell_type": "code",
   "execution_count": 24,
   "id": "31f90550-7f1b-433d-8dc0-d5c41d6c5125",
   "metadata": {},
   "outputs": [],
   "source": [
    "# Dictionary to store the accuracy of each model\n",
    "model_accuracy = {}\n",
    "\n",
    "# Function to train and evaluate models\n",
    "def train_and_evaluate(models, X_train, y_train, X_test, y_test, task_name):\n",
    "    for model_name, model in models.items():\n",
    "        # Train the model\n",
    "        model.fit(X_train, y_train)\n",
    "        # Make predictions\n",
    "        predictions = model.predict(X_test)\n",
    "        # Calculate accuracy\n",
    "        accuracy = accuracy_score(y_test, predictions)\n",
    "        # Store the accuracy\n",
    "        model_accuracy[f\"{task_name} - {model_name}\"] = accuracy\n",
    "        # Save the model\n",
    "        with open(f'models/{task_name}_{model_name}.pkl', 'wb') as f:\n",
    "            pickle.dump(model, f)\n"
   ]
  },
  {
   "cell_type": "code",
   "execution_count": 25,
   "id": "84e1172b-5984-4add-bada-28ff6d58a58f",
   "metadata": {},
   "outputs": [],
   "source": [
    "\n",
    "# Train and evaluate models for hate speech detection\n",
    "train_and_evaluate(models, X_hate_train_tfidf, y_hate_train, X_hate_test_tfidf, y_hate_test, 'igbo_hate_speech')\n",
    "\n",
    "# Train and evaluate models for offensive speech detection\n",
    "train_and_evaluate(models, X_offensive_train_tfidf, y_offensive_train, X_offensive_test_tfidf, y_offensive_test, 'igbo_offensive_speech')\n",
    "\n"
   ]
  },
  {
   "cell_type": "code",
   "execution_count": 26,
   "id": "b966574a-3058-4c5b-91eb-fd3cd067d70d",
   "metadata": {},
   "outputs": [
    {
     "name": "stdout",
     "output_type": "stream",
     "text": [
      "Model saved: models/igbo_hate_speech_igbo_LogisticRegression.pkl\n",
      "Model saved: models/igbo_hate_speech_igbo_DecisionTree.pkl\n",
      "Model saved: models/igbo_hate_speech_igbo_RandomForest.pkl\n",
      "Model saved: models/igbo_hate_speech_igbo_SVM.pkl\n",
      "Model saved: models/igbo_hate_speech_igbo_KNN.pkl\n",
      "Model saved: models/igbo_hate_speech_igbo_NaiveBayes.pkl\n",
      "Model saved: models/igbo_offensive_speech_igbo_LogisticRegression.pkl\n",
      "Model saved: models/igbo_offensive_speech_igbo_DecisionTree.pkl\n",
      "Model saved: models/igbo_offensive_speech_igbo_RandomForest.pkl\n",
      "Model saved: models/igbo_offensive_speech_igbo_SVM.pkl\n",
      "Model saved: models/igbo_offensive_speech_igbo_KNN.pkl\n",
      "Model saved: models/igbo_offensive_speech_igbo_NaiveBayes.pkl\n"
     ]
    }
   ],
   "source": [
    "# Save the models\n",
    "def save_models(models, task_name):\n",
    "    for model_name, model in models.items():\n",
    "        model_file_path = f'models/{task_name}_{model_name}.pkl'\n",
    "        with open(model_file_path, 'wb') as f:\n",
    "            pickle.dump(model, f)\n",
    "        print(f\"Model saved: {model_file_path}\")\n",
    "\n",
    "# Save the hate speech detection models\n",
    "save_models(models, 'igbo_hate_speech')\n",
    "\n",
    "# Save the offensive speech detection models\n",
    "save_models(models, 'igbo_offensive_speech')"
   ]
  },
  {
   "cell_type": "code",
   "execution_count": 27,
   "id": "3948e187-fdd1-4431-b443-20ed5d038239",
   "metadata": {},
   "outputs": [
    {
     "name": "stdout",
     "output_type": "stream",
     "text": [
      "igbo_hate_speech - igbo_LogisticRegression: 0.8571\n",
      "igbo_hate_speech - igbo_DecisionTree: 0.9762\n",
      "igbo_hate_speech - igbo_RandomForest: 0.8571\n",
      "igbo_hate_speech - igbo_SVM: 0.9286\n",
      "igbo_hate_speech - igbo_KNN: 0.9524\n",
      "igbo_hate_speech - igbo_NaiveBayes: 0.9048\n",
      "igbo_offensive_speech - igbo_LogisticRegression: 0.8571\n",
      "igbo_offensive_speech - igbo_DecisionTree: 0.9524\n",
      "igbo_offensive_speech - igbo_RandomForest: 0.8810\n",
      "igbo_offensive_speech - igbo_SVM: 0.8571\n",
      "igbo_offensive_speech - igbo_KNN: 0.9524\n",
      "igbo_offensive_speech - igbo_NaiveBayes: 0.8571\n"
     ]
    }
   ],
   "source": [
    "# Print the accuracy of each model\n",
    "for model_name, accuracy in model_accuracy.items():\n",
    "    print(f\"{model_name}: {accuracy:.4f}\")\n",
    "\n",
    "# Save the TfidfVectorizer\n",
    "with open('models/igbo_tfidf_vectorizer.pkl', 'wb') as f:\n",
    "    pickle.dump(tfidf_vectorizer, f)"
   ]
  },
  {
   "cell_type": "code",
   "execution_count": 28,
   "id": "3d74ceb6-b4b8-4a1b-9071-bb7969d0cff5",
   "metadata": {},
   "outputs": [
    {
     "data": {
      "text/html": [
       "<div>\n",
       "<style scoped>\n",
       "    .dataframe tbody tr th:only-of-type {\n",
       "        vertical-align: middle;\n",
       "    }\n",
       "\n",
       "    .dataframe tbody tr th {\n",
       "        vertical-align: top;\n",
       "    }\n",
       "\n",
       "    .dataframe thead th {\n",
       "        text-align: right;\n",
       "    }\n",
       "</style>\n",
       "<table border=\"1\" class=\"dataframe\">\n",
       "  <thead>\n",
       "    <tr style=\"text-align: right;\">\n",
       "      <th></th>\n",
       "      <th>Hate words</th>\n",
       "      <th>Why Hate?</th>\n",
       "      <th>Offensive words</th>\n",
       "      <th>Why offensive?</th>\n",
       "      <th>hate_text</th>\n",
       "      <th>offensive_text</th>\n",
       "      <th>hate_label</th>\n",
       "      <th>offensive_label</th>\n",
       "    </tr>\n",
       "  </thead>\n",
       "  <tbody>\n",
       "    <tr>\n",
       "      <th>0</th>\n",
       "      <td>okpo ntu</td>\n",
       "      <td>Insulting</td>\n",
       "      <td>ile ngaji</td>\n",
       "      <td>Insulting</td>\n",
       "      <td>okpo ntu</td>\n",
       "      <td>ile ngaji</td>\n",
       "      <td>1</td>\n",
       "      <td>1</td>\n",
       "    </tr>\n",
       "    <tr>\n",
       "      <th>1</th>\n",
       "      <td>nwaanyi</td>\n",
       "      <td>Insulting</td>\n",
       "      <td>onye ori</td>\n",
       "      <td>Insulting</td>\n",
       "      <td>nwaanyi</td>\n",
       "      <td>onye ori</td>\n",
       "      <td>1</td>\n",
       "      <td>1</td>\n",
       "    </tr>\n",
       "    <tr>\n",
       "      <th>2</th>\n",
       "      <td>ewu</td>\n",
       "      <td>Insulting</td>\n",
       "      <td>onye mgbu</td>\n",
       "      <td>Insulting</td>\n",
       "      <td>ewu</td>\n",
       "      <td>onye mgbu</td>\n",
       "      <td>1</td>\n",
       "      <td>1</td>\n",
       "    </tr>\n",
       "    <tr>\n",
       "      <th>3</th>\n",
       "      <td>ofe mmanụ</td>\n",
       "      <td>Discriminatory/neutral</td>\n",
       "      <td>ike</td>\n",
       "      <td>Insulting</td>\n",
       "      <td>ofe mmanụ</td>\n",
       "      <td>ike</td>\n",
       "      <td>1</td>\n",
       "      <td>1</td>\n",
       "    </tr>\n",
       "    <tr>\n",
       "      <th>4</th>\n",
       "      <td>ndi ugwu</td>\n",
       "      <td>Discriminatory/neutral</td>\n",
       "      <td>ụtụrụ gbagbuo gi</td>\n",
       "      <td>Insulting</td>\n",
       "      <td>ndi ugwu</td>\n",
       "      <td>ụtụrụ gbagbuo gi</td>\n",
       "      <td>1</td>\n",
       "      <td>1</td>\n",
       "    </tr>\n",
       "  </tbody>\n",
       "</table>\n",
       "</div>"
      ],
      "text/plain": [
       "  Hate words               Why Hate?   Offensive words Why offensive?  \\\n",
       "0   okpo ntu               Insulting         ile ngaji      Insulting   \n",
       "1    nwaanyi               Insulting          onye ori      Insulting   \n",
       "2        ewu               Insulting         onye mgbu      Insulting   \n",
       "3  ofe mmanụ  Discriminatory/neutral               ike      Insulting   \n",
       "4   ndi ugwu  Discriminatory/neutral  ụtụrụ gbagbuo gi      Insulting   \n",
       "\n",
       "   hate_text    offensive_text  hate_label  offensive_label  \n",
       "0   okpo ntu         ile ngaji           1                1  \n",
       "1    nwaanyi          onye ori           1                1  \n",
       "2        ewu         onye mgbu           1                1  \n",
       "3  ofe mmanụ               ike           1                1  \n",
       "4   ndi ugwu  ụtụrụ gbagbuo gi           1                1  "
      ]
     },
     "execution_count": 28,
     "metadata": {},
     "output_type": "execute_result"
    }
   ],
   "source": [
    "df.head()"
   ]
  },
  {
   "cell_type": "code",
   "execution_count": null,
   "id": "36fe0300-d1ea-4cfa-a30c-b3bf7c782e48",
   "metadata": {},
   "outputs": [],
   "source": []
  }
 ],
 "metadata": {
  "kernelspec": {
   "display_name": "Python 3 (ipykernel)",
   "language": "python",
   "name": "python3"
  },
  "language_info": {
   "codemirror_mode": {
    "name": "ipython",
    "version": 3
   },
   "file_extension": ".py",
   "mimetype": "text/x-python",
   "name": "python",
   "nbconvert_exporter": "python",
   "pygments_lexer": "ipython3",
   "version": "3.11.7"
  }
 },
 "nbformat": 4,
 "nbformat_minor": 5
}
